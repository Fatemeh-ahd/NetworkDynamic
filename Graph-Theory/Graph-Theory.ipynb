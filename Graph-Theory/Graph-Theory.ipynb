{
 "cells": [
  {
   "cell_type": "markdown",
   "id": "5cb34715",
   "metadata": {},
   "source": [
    "# Homework 1      \n",
    "**Fatemeh Ahmadvand - s301384**"
   ]
  },
  {
   "cell_type": "code",
   "execution_count": 1,
   "id": "9b89748f",
   "metadata": {},
   "outputs": [],
   "source": [
    "#pip install networkx\n",
    "#pip install cvxpy"
   ]
  },
  {
   "cell_type": "code",
   "execution_count": 2,
   "id": "24ce145a",
   "metadata": {},
   "outputs": [],
   "source": [
    "import numpy as np\n",
    "import networkx as nx\n",
    "import matplotlib.pyplot as plt\n",
    "from networkx.algorithms.flow import edmonds_karp\n",
    "%matplotlib inline\n",
    "import picos as pc\n",
    "import cvxpy as cp\n",
    "import scipy.io\n",
    "import scipy"
   ]
  },
  {
   "cell_type": "markdown",
   "id": "06408e74",
   "metadata": {},
   "source": [
    "# Exercise 1\n",
    "Consider the network in Figure 1 with link capacities\n",
    "c2 = c4 = c6 = 1, c1 = c3 = c5 = 2."
   ]
  },
  {
   "cell_type": "code",
   "execution_count": 3,
   "id": "9437999e",
   "metadata": {},
   "outputs": [
    {
     "data": {
      "image/png": "[encoded data removed]",
      "text/plain": [
       "<Figure size 432x288 with 1 Axes>"
      ]
     },
     "metadata": {},
     "output_type": "display_data"
    }
   ],
   "source": [
    "G = nx.DiGraph()\n",
    "G.add_edges_from([(\"o\",\"a\"), (\"o\",\"b\"), (\"a\",\"d\"), (\"b\",\"d\"), (\"b\",\"c\"), (\"c\",\"d\")])\n",
    "\n",
    "# to find the maximal flow, the edges have to be labelled with a 'capacity' label\n",
    "# we then modify the graph in such a way to include this information \n",
    "G[\"o\"][\"a\"]['capacity'] = 2\n",
    "G[\"o\"][\"b\"]['capacity'] = 2\n",
    "G[\"b\"][\"c\"]['capacity'] = 2\n",
    "G[\"a\"][\"d\"]['capacity'] = 1\n",
    "G[\"b\"][\"d\"]['capacity'] = 1\n",
    "G[\"c\"][\"d\"]['capacity'] = 1\n",
    "pos = {\"o\":[0,2], \"a\":[1,3], \"b\":[1,2], \"c\":[1,0], \"d\":[2,2]}\n",
    "\n",
    "labels = nx.get_edge_attributes(G, 'capacity')\n",
    "\n",
    "nx.draw_networkx_edge_labels(G,pos,edge_labels=labels, font_size=12, font_color='red')\n",
    "\n",
    "nx.draw(G, pos, node_size = 600, font_size=12, node_color='lightgray', with_labels=True, width=2,\n",
    "        edge_color = 'black', edgecolors='red')\n",
    "\n",
    "plt.savefig(\"plot2.1.svg\", format=\"svg\")\n",
    "\n",
    "nx.draw(G, pos, with_labels = True)"
   ]
  },
  {
   "cell_type": "markdown",
   "id": "c82a643c",
   "metadata": {},
   "source": [
    "**(a)** What is the minimum aggregate capacity that needs to be removed for no feasible flow from o to d to exist?"
   ]
  },
  {
   "cell_type": "markdown",
   "id": "0baabd59",
   "metadata": {},
   "source": [
    "**Solution**: first compute the possible path o-d:\n",
    "\n",
    "-----------Path------------|----flow----|----Min Cut----|\n",
    "\n",
    "Path 1: o -> a -> d......|.......1.......|.....{a,d}\n",
    "\n",
    "Path 2: o -> b -> d......|.......1.......|.....{b,d}\n",
    "\n",
    "Path 3: o-> b-> c->d...|.......1.......|.....{c,d}"
   ]
  },
  {
   "cell_type": "code",
   "execution_count": 4,
   "id": "4109d2a7",
   "metadata": {},
   "outputs": [
    {
     "data": {
      "text/plain": [
       "(3, ({'a', 'b', 'c', 'o'}, {'d'}))"
      ]
     },
     "execution_count": 4,
     "metadata": {},
     "output_type": "execute_result"
    }
   ],
   "source": [
    "nx.algorithms.flow.minimum_cut(G,\"o\",\"d\")"
   ]
  },
  {
   "cell_type": "code",
   "execution_count": 5,
   "id": "f59c3b67",
   "metadata": {},
   "outputs": [
    {
     "name": "stdout",
     "output_type": "stream",
     "text": [
      "cut_value: 3\n",
      "partition: ({'b', 'o', 'c', 'a'}, {'d'})\n"
     ]
    }
   ],
   "source": [
    "cut_value, partition = nx.algorithms.flow.minimum_cut(G,\"o\",\"d\")\n",
    "print(\"cut_value:\",cut_value)  # Value of the minimum cut\n",
    "print(\"partition:\",partition)  #‘partition’ here is a tuple with the two sets of nodes that define the minimum cut"
   ]
  },
  {
   "cell_type": "markdown",
   "id": "50700a09",
   "metadata": {},
   "source": [
    "**(b)** What is the maximum aggregate capacity that can be removed from the links without \n",
    "affecting the maximum throughput from o to d?"
   ]
  },
  {
   "cell_type": "code",
   "execution_count": 6,
   "id": "319cf05e",
   "metadata": {},
   "outputs": [
    {
     "data": {
      "text/plain": [
       "(3,\n",
       " {'o': {'a': 1, 'b': 2},\n",
       "  'a': {'d': 1},\n",
       "  'b': {'d': 1, 'c': 1},\n",
       "  'd': {},\n",
       "  'c': {'d': 1}})"
      ]
     },
     "execution_count": 6,
     "metadata": {},
     "output_type": "execute_result"
    }
   ],
   "source": [
    "nx.algorithms.flow.maximum_flow(G,\"o\",\"d\")\n",
    "\n",
    "# maximum_flow returns the maximal throughput, plus a dictionary containing the value of the flow that goes through each edge."
   ]
  },
  {
   "cell_type": "markdown",
   "id": "34f1a933",
   "metadata": {},
   "source": [
    "maximum_flow returns both the value of the maximum flow and a dictionary with all flows."
   ]
  },
  {
   "cell_type": "markdown",
   "id": "5d9524bd",
   "metadata": {},
   "source": [
    "As expected, the minimum cut equals the maximal flow."
   ]
  },
  {
   "cell_type": "markdown",
   "id": "b068b7bd",
   "metadata": {},
   "source": [
    "**c)** You are given x > 0 extra units of capacity. How should you distribute them in order to\n",
    "maximize the throughput that can be sent from o to d? Plot the maximum throughput from o to d as a function of x ≥ 0."
   ]
  },
  {
   "cell_type": "code",
   "execution_count": 7,
   "id": "621b588d",
   "metadata": {},
   "outputs": [
    {
     "name": "stderr",
     "output_type": "stream",
     "text": [
      "c:\\users\\sadaf\\appdata\\local\\programs\\python\\python37\\lib\\site-packages\\ipykernel_launcher.py:14: DeprecationWarning: new_param is deprecated: Use picos.Constant instead.\n",
      "  \n",
      "c:\\users\\sadaf\\appdata\\local\\programs\\python\\python37\\lib\\site-packages\\ipykernel_launcher.py:23: DeprecationWarning: Problem.add_variable is deprecated: Variables can now be created independent of problems, and do not need to be added to any problem explicitly.\n",
      "c:\\users\\sadaf\\appdata\\local\\programs\\python\\python37\\lib\\site-packages\\ipykernel_launcher.py:28: DeprecationWarning: Problem.add_variable is deprecated: Variables can now be created independent of problems, and do not need to be added to any problem explicitly.\n",
      "c:\\users\\sadaf\\appdata\\local\\programs\\python\\python37\\lib\\site-packages\\ipykernel_launcher.py:31: DeprecationWarning: Problem.add_variable is deprecated: Variables can now be created independent of problems, and do not need to be added to any problem explicitly.\n"
     ]
    }
   ],
   "source": [
    "import picos as pc\n",
    "\n",
    "for x in range(0, 10):\n",
    "  # Extra capacity available\n",
    "  gamma = x\n",
    "\n",
    "  # Extracting capacities as dictionary\n",
    "  c = {}\n",
    "  for e in sorted(G.edges(data=True)):\n",
    "    capacity = e[2]['capacity']\n",
    "    c[(e[0], e[1])]  = capacity\n",
    "\n",
    "  # Convert the capacities to a PICOS expression.\n",
    "  cc = pc.new_param('c',c)\n",
    "\n",
    "  s, t = 'o', 'd'\n",
    "\n",
    "  maxflow=pc.Problem()\n",
    "\n",
    "  # Add the flow variables.\n",
    "  f={}\n",
    "  for e in G.edges():\n",
    "    f[e]=maxflow.add_variable('f[{0}]'.format(e))\n",
    "\n",
    "  # Add the extra capacity variable\n",
    "  ex={}\n",
    "  for e in G.edges():\n",
    "    ex[e]=maxflow.add_variable('ex[{0}]'.format(e))\n",
    "\n",
    "  # Add the objective variable for the total flow.\n",
    "  F=maxflow.add_variable('F')\n",
    "\n",
    "  # CONSTRAINTS\n",
    "  # Enforce flow conservation.\n",
    "  maxflow.add_list_of_constraints([\n",
    "      pc.sum([f[p,i] for p in G.predecessors(i)])\n",
    "      == pc.sum([f[i,j] for j in G.successors(i)])\n",
    "      for i in G.nodes() if i not in (s,t)])\n",
    "\n",
    "  # Set source flow at s.\n",
    "  maxflow.add_constraint(\n",
    "    pc.sum([f[p,s] for p in G.predecessors(s)]) + F\n",
    "    == pc.sum([f[s,j] for j in G.successors(s)]))\n",
    "\n",
    "  # Set sink flow at t.\n",
    "  maxflow.add_constraint(\n",
    "    pc.sum([f[p,t] for p in G.predecessors(t)])\n",
    "    == pc.sum([f[t,j] for j in G.successors(t)]) + F)\n",
    "\n",
    "  # Enforce flow nonnegativity.\n",
    "  maxflow.add_list_of_constraints([f[e] >= 0 for e in G.edges()])\n",
    "\n",
    "  # Enforce edge capacities.\n",
    "  maxflow.add_list_of_constraints([f[e] <= cc[e] + ex[e] for e in G.edges()])\n",
    "\n",
    "  # Enforce extra capacity nonnegativity.\n",
    "  maxflow.add_list_of_constraints([ex[e] >= 0 for e in G.edges()])\n",
    "\n",
    "  # Set extra capacity value constraint.\n",
    "  maxflow.add_constraint(pc.sum([ex[e] for e in G.edges()]) <= gamma)\n",
    "\n",
    "  # Set the objective.\n",
    "  maxflow.set_objective('max', F)\n",
    "\n",
    "  # Solve the problem.\n",
    "  maxflow.solve(solver='glpk')"
   ]
  },
  {
   "cell_type": "code",
   "execution_count": 8,
   "id": "ff52ba45",
   "metadata": {},
   "outputs": [
    {
     "name": "stdout",
     "output_type": "stream",
     "text": [
      "8\n",
      "('o', 'a') 4\n",
      "('o', 'b') 0\n",
      "('a', 'd') 5\n",
      "('b', 'd') 0\n",
      "('b', 'c') 0\n",
      "('c', 'd') 0\n"
     ]
    }
   ],
   "source": [
    "import math\n",
    "import random\n",
    "\n",
    "print(math.floor(F))\n",
    "\n",
    "for val in ex.items():\n",
    "  print(val[0], round(val[1]))"
   ]
  },
  {
   "cell_type": "markdown",
   "id": "0c259f3a",
   "metadata": {},
   "source": [
    "# Exercise 2"
   ]
  },
  {
   "cell_type": "markdown",
   "id": "d7572e83",
   "metadata": {},
   "source": [
    "**Definition**: given a graph $G=(V,E)$, a matching is a subset of edges $M \\subseteq E$ such that no two edges in $M$ share a common node (head or tail).\n",
    "\n",
    "**Definition**: Consider a simple bipartite graph, whereby the node set can be partitioned as $V = V_0 \\cup V_1$, with $V_0 \\cap V_1 = \\emptyset$, and no edges between nodes of the same set exist. For $h = 0,1$, we shall refer to a matching $M$ in $G$ as $V_h$-perfect (or $V_h$-saturating) if every node in $V_h$ is matched in $M$.\n",
    "\n",
    "There are a set of people {p1, p2, p3, p4} and a set of books {b1, b2, b3, b4}. Each\n",
    "person is interested in a subset of books, specifically\n",
    "p1 → {b1, b2}, p2 → {b2, b3}, p3 → {b1, b4}, p4 → {b1, b2, b4}"
   ]
  },
  {
   "cell_type": "code",
   "execution_count": 9,
   "id": "36c32afe",
   "metadata": {},
   "outputs": [
    {
     "data": {
      "image/png": "[encoded data removed]",
      "text/plain": [
       "<Figure size 288x288 with 1 Axes>"
      ]
     },
     "metadata": {},
     "output_type": "display_data"
    }
   ],
   "source": [
    "#G bipartite graph\n",
    "G = nx.DiGraph()\n",
    "G.add_edges_from([(\"p1\",\"b1\"), (\"p1\",\"b2\"), (\"p2\",\"b2\"), (\"p2\",\"b3\"), (\"p3\",\"b1\"), (\"p3\",\"b4\"),\n",
    "                  (\"p4\",\"b1\"), (\"p4\",\"b2\"), (\"p4\",\"b4\")])\n",
    "\n",
    "#Draw the Bipartite Graph\n",
    "fig, ax = plt.subplots(figsize=(4,4))\n",
    "\n",
    "pos = {\"p1\":[0,2], \"p2\":[0,1], \"p3\":[0,0], \"p4\":[0,-1], \"b1\":[1,2], \"b2\":[1,1], \"b3\":[1,0], \"b4\":[1,-1]}\n",
    "nx.draw(G, pos, node_size = 600, font_size=12, node_color='lightgray', with_labels=True, width=2,\n",
    "        edge_color = 'black', edgecolors='red', ax=ax)\n",
    "\n",
    "plt.savefig(\"plot2.1.svg\", format=\"svg\")"
   ]
  },
  {
   "cell_type": "markdown",
   "id": "371bd573",
   "metadata": {},
   "source": [
    "**(a)** Exploit max-flow problems to find a perfect matching (if any)."
   ]
  },
  {
   "cell_type": "code",
   "execution_count": 10,
   "id": "4cd43a18",
   "metadata": {},
   "outputs": [
    {
     "name": "stdout",
     "output_type": "stream",
     "text": [
      "Max flow:  (4, {'p1': {'b1': 0, 'b2': 1}, 'b1': {'d': 1}, 'b2': {'d': 1}, 'p2': {'b2': 0, 'b3': 1}, 'b3': {'d': 1}, 'p3': {'b1': 1, 'b4': 0}, 'b4': {'d': 1}, 'p4': {'b1': 0, 'b2': 0, 'b4': 1}, 's': {'p1': 1, 'p2': 1, 'p3': 1, 'p4': 1}, 'd': {}})\n"
     ]
    },
    {
     "data": {
      "image/png": "[encoded data removed]",
      "text/plain": [
       "<Figure size 288x288 with 1 Axes>"
      ]
     },
     "metadata": {},
     "output_type": "display_data"
    }
   ],
   "source": [
    "# add source and destionation to bipartite graph\n",
    "dG = nx.DiGraph()\n",
    "dG.add_edges_from([(\"p1\",\"b1\"), (\"p1\",\"b2\"), (\"p2\",\"b2\"), (\"p2\",\"b3\"), (\"p3\",\"b1\"), (\"p3\",\"b4\"),\n",
    "                   (\"p4\",\"b1\"), (\"p4\",\"b2\"), (\"p4\",\"b4\")])\n",
    "dG.add_edges_from([(\"s\",\"p1\"), (\"s\",\"p2\"), (\"s\",\"p3\"), (\"s\",\"p4\"), (\"b1\",\"d\"), (\"b2\", \"d\"),\n",
    "                   (\"b3\",\"d\"), (\"b4\",\"d\")])\n",
    "# unitary capacity\n",
    "dG[\"p1\"][\"b1\"]['capacity']=1\n",
    "dG[\"p1\"][\"b2\"]['capacity']=1\n",
    "dG[\"p2\"][\"b2\"]['capacity']=1\n",
    "dG[\"p2\"][\"b3\"]['capacity']=1\n",
    "dG[\"p3\"][\"b1\"]['capacity']=1\n",
    "dG[\"p3\"][\"b4\"]['capacity']=1\n",
    "dG[\"p4\"][\"b1\"]['capacity']=1\n",
    "dG[\"p4\"][\"b2\"]['capacity']=1\n",
    "dG[\"p4\"][\"b4\"]['capacity']=1\n",
    "dG[\"s\"][\"p1\"]['capacity']=1\n",
    "dG[\"s\"][\"p2\"]['capacity']=1\n",
    "dG[\"s\"][\"p3\"]['capacity']=1\n",
    "dG[\"s\"][\"p4\"]['capacity']=1\n",
    "dG[\"b1\"][\"d\"]['capacity']=1\n",
    "dG[\"b2\"][\"d\"]['capacity']=1\n",
    "dG[\"b3\"][\"d\"]['capacity']=1\n",
    "dG[\"b4\"][\"d\"]['capacity']=1\n",
    "# Max-flow of Graph\n",
    "print(\"Max flow: \", nx.algorithms.flow.maximum_flow(dG, \"s\", \"d\"))\n",
    "# draw graph\n",
    "fig, ax = plt.subplots(figsize=(4,4))\n",
    "\n",
    "edge_colors = [\"black\",\"red\",\"black\",\"black\",\"black\",\"red\",\"black\",\"red\",\"black\",\"black\",\"black\",\n",
    "               \"black\",\"red\",\"black\",\"black\",\"black\",\"black\"]\n",
    "pos = {\"p1\":[0,2], \"p2\":[0,1], \"p3\":[0,0], \"p4\":[0,-1], \"b1\":[1,2], \"b2\":[1,1], \"b3\":[1,0], \n",
    "       \"b4\":[1,-1], \"s\":[-1,0.5], \"d\":[2,0.5]}\n",
    "nx.draw(dG, pos, node_size = 600, font_size=12, node_color='lightgray', with_labels=True, width=2,\n",
    "        edge_color = edge_colors, edgecolors='red', ax=ax)\n",
    "plt.savefig(\"plot2.2.svg\", format=\"svg\")"
   ]
  },
  {
   "cell_type": "markdown",
   "id": "43ef6164",
   "metadata": {},
   "source": [
    "**(b)** Assume now that there are multiple copies books, and the distribution of the number of\n",
    "copies is (2, 3, 2, 2). Each person can take an arbitrary number of different books. Exploit\n",
    "the analogy with max-flow problems to establish how many books of interest can be assigned\n",
    "in total.\n"
   ]
  },
  {
   "cell_type": "code",
   "execution_count": 11,
   "id": "f24630ce",
   "metadata": {},
   "outputs": [
    {
     "name": "stdout",
     "output_type": "stream",
     "text": [
      "Max flow:  (8, {'p1': {'b1': 1, 'b2': 1}, 'b1': {'d': 2}, 'b2': {'d': 3}, 'p2': {'b2': 1, 'b3': 1}, 'b3': {'d': 1}, 'p3': {'b1': 1, 'b4': 1}, 'b4': {'d': 2}, 'p4': {'b1': 0, 'b2': 1, 'b4': 1}, 's': {'p1': 2, 'p2': 2, 'p3': 2, 'p4': 2}, 'd': {}})\n"
     ]
    },
    {
     "data": {
      "image/png": "[encoded data removed]",
      "text/plain": [
       "<Figure size 288x288 with 1 Axes>"
      ]
     },
     "metadata": {},
     "output_type": "display_data"
    }
   ],
   "source": [
    "# weighted bipartite graph\n",
    "G_weighted = nx.DiGraph()\n",
    "G_weighted.add_edges_from([(\"p1\",\"b1\"), (\"p1\",\"b2\"), (\"p2\",\"b2\"), (\"p2\",\"b3\"), (\"p3\",\"b1\"), (\"p3\",\"b4\"),\n",
    "                           (\"p4\",\"b1\"), (\"p4\",\"b2\"), (\"p4\",\"b4\")])\n",
    "G_weighted.add_edges_from([(\"s\",\"p1\"), (\"s\",\"p2\"), (\"s\",\"p3\"), (\"s\",\"p4\"), (\"b1\",\"d\"), (\"b2\", \"d\"),(\"b3\",\"d\"), (\"b4\",\"d\")])\n",
    "# weighted capacity\n",
    "G_weighted[\"p1\"][\"b1\"]['capacity']=1\n",
    "G_weighted[\"p1\"][\"b2\"]['capacity']=1\n",
    "G_weighted[\"p2\"][\"b2\"]['capacity']=1\n",
    "G_weighted[\"p2\"][\"b3\"]['capacity']=1\n",
    "G_weighted[\"p3\"][\"b1\"]['capacity']=1\n",
    "G_weighted[\"p3\"][\"b4\"]['capacity']=1\n",
    "G_weighted[\"p4\"][\"b1\"]['capacity']=1\n",
    "G_weighted[\"p4\"][\"b2\"]['capacity']=1\n",
    "G_weighted[\"p4\"][\"b4\"]['capacity']=1\n",
    "G_weighted[\"s\"][\"p1\"]['capacity']=2\n",
    "G_weighted[\"s\"][\"p2\"]['capacity']=3\n",
    "G_weighted[\"s\"][\"p3\"]['capacity']=2\n",
    "G_weighted[\"s\"][\"p4\"]['capacity']=2\n",
    "G_weighted[\"b1\"][\"d\"]['capacity']=2\n",
    "G_weighted[\"b2\"][\"d\"]['capacity']=3\n",
    "G_weighted[\"b3\"][\"d\"]['capacity']=2\n",
    "G_weighted[\"b4\"][\"d\"]['capacity']=2\n",
    "# Max-flow of Graph\n",
    "print(\"Max flow: \", nx.algorithms.flow.maximum_flow(G_weighted,\"s\",\"d\"))\n",
    "# draw Graph\n",
    "fig, ax = plt.subplots(figsize=(4,4))\n",
    "edge_colors = [\"black\",\"black\",\"black\",\"black\",\"black\",\"black\",\"black\",\"black\",\"black\",\"black\",\"black\",\n",
    "               \"black\",\"black\",\"black\",\"black\",\"black\",\"black\"]\n",
    "pos = {\"p1\":[0,2], \"p2\":[0,1], \"p3\":[0,0], \"p4\":[0,-1], \"b1\":[2,2], \"b2\":[2,1], \"b3\":[2,0], \"b4\":[2,-1],\n",
    "       \"s\":[-1,0.5], \"d\":[3,0.5]}\n",
    "labels = nx.get_edge_attributes(G_weighted, 'capacity')\n",
    "nx.draw_networkx_edge_labels(G_weighted,pos,edge_labels=labels, font_size=10, font_color='red')\n",
    "nx.draw(dG, pos, node_size = 600, font_size=12, node_color='lightgray', with_labels=True, width=2, \n",
    "        edge_color = edge_colors, edgecolors='red', ax=ax)\n",
    "plt.savefig(\"plot2.3.svg\", format=\"svg\")"
   ]
  },
  {
   "cell_type": "markdown",
   "id": "5fd4abfe",
   "metadata": {},
   "source": [
    "(c) Suppose that the library can sell a copy of a book and buy a copy of another book. Which\n",
    "books should be sold and bought to maximize the number of assigned books?"
   ]
  },
  {
   "cell_type": "code",
   "execution_count": 12,
   "id": "2568fdd4",
   "metadata": {},
   "outputs": [
    {
     "name": "stdout",
     "output_type": "stream",
     "text": [
      "b1 inflow: 3\n",
      "b1 outflow: 2\n",
      "1 copy of the book b1 can be sold \n",
      "b2 inflow: 3\n",
      "b2 outflow: 3\n",
      "b3 inflow: 1\n",
      "b3 outflow: 2\n",
      "1 copy of the book b3 can be bought \n",
      "b4 inflow: 2\n",
      "b4 outflow: 2\n",
      "d inflow: 9\n",
      "d outflow: 0\n",
      "Max possible outflow:  9\n"
     ]
    }
   ],
   "source": [
    "nodes = G_weighted.nodes  #store nodes\n",
    "edges = G_weighted.edges  #store edges\n",
    "\n",
    "for node_i in nodes:\n",
    "\n",
    "    inflow = 0                  #no of input edge\n",
    "    outflow = 0                 #no of output edge\n",
    "    maxPossibleOutflow = 0      \n",
    "\n",
    "    # source node is not considered\n",
    "    if node_i == \"s\": continue\n",
    "\n",
    "    # person nodes is not considered\n",
    "    if node_i == \"p1\": continue\n",
    "    if node_i == \"p2\": continue\n",
    "    if node_i == \"p3\": continue\n",
    "    if node_i == \"p4\": continue\n",
    "\n",
    "    # inflow of destination node is the maximal possible flow of graph  محاسبه مجموع وزنهای ورودی به نود پایانی\n",
    "    if node_i == \"d\":\n",
    "         for u, v, data in G_weighted.in_edges(node_i, data=True):  # data = true-->\n",
    "            #print (\"data.values:\",data.values())\n",
    "            maxPossibleOutflow = sum(data.values()) + maxPossibleOutflow\n",
    "            #print(\"maxPossibleOutflow:\", maxPossibleOutflow)\n",
    "            \n",
    "            \n",
    "    # calculate inflow of node_i (Book nodes)\n",
    "    for u, v, data in G_weighted.in_edges(node_i, data=True):\n",
    "        inflow = sum(data.values()) + inflow\n",
    "    print(node_i , \"inflow:\", inflow)\n",
    "        \n",
    "    # calculate outflow of node_i (Book nodes)\n",
    "    for u, v, data in G_weighted.out_edges(node_i, data=True):\n",
    "        outflow = sum(data.values()) + outflow\n",
    "    print(node_i , \"outflow:\", outflow)\n",
    "        \n",
    "    # netflow of node_i (Book nodes)\n",
    "    netflow = inflow - outflow\n",
    "\n",
    "    # if some nodes has inflow greater or minor than outflow means that it has not an optimized flow\n",
    "    # if some nodes has \n",
    "    if netflow >0 and node_i != \"s\" and node_i != \"d\":\n",
    "        print(f\"{netflow} copy of the book {node_i} can be sold \")\n",
    "    if netflow <0 and node_i != \"s\" and node_i != \"d\":\n",
    "        print(f\"{-netflow} copy of the book {node_i} can be bought \")\n",
    "       #print(f\"Node {node_i} not optimized, netflow is {netflow}\")\n",
    "\n",
    "print(\"Max possible outflow: \", maxPossibleOutflow)"
   ]
  },
  {
   "cell_type": "markdown",
   "id": "305df8fd",
   "metadata": {},
   "source": [
    "# Exercise 3"
   ]
  },
  {
   "cell_type": "markdown",
   "id": "856eff76",
   "metadata": {},
   "source": [
    "We are given the highway network in Los Angeles, see Figure 2. To simplify the\n",
    "problem, an approximate highway map is given in Figure 3, covering part of the real highway\n",
    "network. The node-link incidence matrix B, for this traffic network is given in the file traffic.mat.\n",
    "The rows of B are associated with the nodes of the network and the columns of B with the links.\n",
    "The i-th column of B has 1 in the row corresponding to the tail node of link ei and (−1) in the row\n",
    "corresponding to the head node of link $e_i$ . Each node represents an intersection between highways (and some of the area around).\n",
    "\n",
    "Each link $e_i$ ∈ {$e_1$, . . . , $e_{28}$},has a maximum flow capacity $c_{e_i}$. The capacities are given as\n",
    "a vector $c_e$ in the file capacities.mat. Furthermore, each link has a minimum travelling time $l_{e_i}$,\n",
    "\n",
    "which the drivers experience when the road is empty. In the same manner as for the capacities,\n",
    "the minimum travelling times are given as a vector le in the file traveltime.mat. These values are simply retrieved by dividing the length of the highway segment with the assumed speed limit 60\n",
    "miles/hour. For each link, we introduce the delay function\n",
    "\n",
    "$$\n",
    "\\tau_e(f_e) = \\frac {\\ l_e }{1 - f_e / c_e} ,  0 ≤f_e < c_e\n",
    "$$\n",
    "\n",
    "For $f_e$ ≥ $c_e$, the value of $\\tau_e$($f_e$) is considered as +∞  \n",
    "\n",
    "If you use Python to solve the Exercise, the files .mat be loaded by using the following code:\n",
    "\n",
    "f = scipy.io.loadmat(’flow.mat’)[\"flow\"].reshape(28,)\n",
    "\n",
    "C = scipy.io.loadmat(’capacities.mat’)[\"capacities\"].reshape(28,)\n",
    "\n",
    "B = scipy.io.loadmat(’traffic.mat’)[\"traffic\"]\n",
    "\n",
    "l = scipy.io.loadmat(’traveltime.mat’)[\"traveltime\"].reshape(28,)"
   ]
  },
  {
   "cell_type": "code",
   "execution_count": 13,
   "id": "4e6b6adf",
   "metadata": {},
   "outputs": [
    {
     "name": "stdout",
     "output_type": "stream",
     "text": [
      "[(1, 2), (1, 6), (2, 3), (2, 7), (3, 4), (3, 8), (3, 9), (4, 5), (4, 9), (5, 14), (6, 7), (6, 10), (7, 8), (7, 10), (8, 9), (8, 11), (9, 13), (9, 12), (13, 14), (13, 17), (14, 17), (10, 11), (10, 15), (11, 12), (11, 15), (15, 16), (12, 13), (16, 17)]\n"
     ]
    },
    {
     "data": {
      "image/png": "[encoded data removed]",
      "text/plain": [
       "<Figure size 360x288 with 1 Axes>"
      ]
     },
     "metadata": {},
     "output_type": "display_data"
    }
   ],
   "source": [
    "import scipy.io\n",
    "import scipy\n",
    "import cvxpy as cp\n",
    "\n",
    "# in this section we import the .mat files and draw graph and print links.\n",
    "np.set_printoptions(precision=2, suppress=True)\n",
    "\n",
    "file = scipy.io.loadmat('D:/Courses/Semester - 3/Network_Dynamic_Learning/Homeworks Materials/capacities.mat')\n",
    "capacities = file.get('capacities')\n",
    "capacities = capacities.reshape(28, )\n",
    "\n",
    "file = scipy.io.loadmat('D:/Courses/Semester - 3/Network_Dynamic_Learning/Homeworks Materials/traveltime.mat')\n",
    "traveltime = file.get('traveltime')\n",
    "traveltime = traveltime.reshape(28, )\n",
    "\n",
    "file = scipy.io.loadmat('D:/Courses/Semester - 3/Network_Dynamic_Learning/Homeworks Materials/flow.mat')\n",
    "flow = file.get('flow')\n",
    "flow = flow.reshape(28, )\n",
    "\n",
    "file = scipy.io.loadmat('D:/Courses/Semester - 3/Network_Dynamic_Learning/Homeworks Materials/traffic.mat')\n",
    "traffic = file.get('traffic')\n",
    "\n",
    "# creation of Graph\n",
    "G = nx.DiGraph()\n",
    "\n",
    "# connect nodes \n",
    "# compute node_edge incidence matrix\n",
    "# +1 if the node is the source (tail) of an edge \n",
    "# and -1 if it is the destination (head) of the edge.\n",
    "for c in range(28):            #searching in edges\n",
    "    capac = capacities[c]\n",
    "    travtime = traveltime[c]\n",
    "    for r in range(17):        # check nodes the output edge of node i is the input node of j\n",
    "        if traffic[r][c] == 1:  \n",
    "            i = r              #head node\n",
    "        if traffic[r][c] == -1:\n",
    "            j = r              # tail node\n",
    "    G.add_edges_from([(i + 1, j + 1)], capacity=capac, traveltime=travtime)\n",
    "edges = G.edges()\n",
    "print(edges)      \n",
    "\n",
    "# draw Graph\n",
    "fig, ax = plt.subplots(figsize=(5, 4))\n",
    "\n",
    "pos = {1: [-3, 1], 2: [-1, 1], 3: [0.5, 1], 4: [2, 1], 5: [3, 0], 6: [-4, -1], 7: [-2.5, -1], 8: [-1, -1], 9: [1, -1],\n",
    "       10: [-3, -2], 11: [-1, -2], 12: [0.5, -2], 13: [2, -2], 14: [4, -2], 15: [-1.5, -3], 16: [0, -3], 17: [2, -3]}\n",
    "\n",
    "nx.draw(G, pos, node_size=500, font_size=12, node_color='lightgray', with_labels=True, width=2, edge_color='black',\n",
    "        edgecolors='red', ax=ax)\n",
    "\n",
    "plt.savefig(\"plot3.1.svg\")"
   ]
  },
  {
   "cell_type": "markdown",
   "id": "7b129986",
   "metadata": {},
   "source": [
    "(a) Find the shortest path between node 1 and 17. This is equivalent to the fastest path (path\n",
    "with shortest traveling time) in an empty network."
   ]
  },
  {
   "cell_type": "code",
   "execution_count": 14,
   "id": "27f64db1",
   "metadata": {},
   "outputs": [
    {
     "name": "stdout",
     "output_type": "stream",
     "text": [
      "The shortest path from node 1 to node 17:  [1, 2, 3, 9, 13, 17]\n"
     ]
    },
    {
     "data": {
      "image/png": "[encoded data removed]",
      "text/plain": [
       "<Figure size 360x288 with 1 Axes>"
      ]
     },
     "metadata": {},
     "output_type": "display_data"
    }
   ],
   "source": [
    "print(\"The shortest path from node 1 to node 17: \", nx.shortest_path(G, source=1, target=17, weight='traveltime'))\n",
    "fig, ax = plt.subplots(figsize=(5, 4))\n",
    "\n",
    "edge_colors = [\"red\", \"black\", \"red\", \"black\", \"black\", \"black\", \"red\", \"black\", \"black\", \"black\",\n",
    "               \"black\", \"black\", \"black\", \"black\", \"black\", \"black\", \"red\", \"black\", \"black\", \"red\",\n",
    "               \"black\", \"black\", \"black\", \"black\", \"black\", \"black\", \"black\", \"black\"]\n",
    "nx.draw(G, pos, node_size=500, font_size=12, node_color='lightgray', with_labels=True, width=2, edge_color=edge_colors,\n",
    "        edgecolors='red', ax=ax)\n",
    "\n",
    "plt.savefig(\"plot3.2.svg\")"
   ]
  },
  {
   "cell_type": "markdown",
   "id": "1d0fa8f9",
   "metadata": {},
   "source": [
    "(b) Find the maximum flow between node 1 and 17."
   ]
  },
  {
   "cell_type": "code",
   "execution_count": 15,
   "id": "5f3e7c1e",
   "metadata": {},
   "outputs": [
    {
     "name": "stdout",
     "output_type": "stream",
     "text": [
      "Maximum flow from node 1 to 17:  (22448, {1: {2: 8741, 6: 13707}, 2: {3: 8741, 7: 0}, 3: {4: 0, 8: 0, 9: 8741}, 4: {5: 0, 9: 0}, 5: {14: 0}, 6: {7: 4624, 10: 9083}, 7: {8: 4624, 10: 0}, 8: {9: 4624, 11: 0}, 9: {13: 6297, 12: 7068}, 13: {14: 3835, 17: 10355}, 14: {17: 3835}, 10: {11: 825, 15: 8258}, 11: {12: 825, 15: 0}, 15: {16: 8258}, 12: {13: 7893}, 17: {}, 16: {17: 8258}})\n"
     ]
    }
   ],
   "source": [
    "#maximum flow between 1 to 17:\n",
    "print(\"Maximum flow from node 1 to 17: \", nx.algorithms.flow.maximum_flow(G, 1, 17))"
   ]
  },
  {
   "cell_type": "markdown",
   "id": "5d749ea3",
   "metadata": {},
   "source": [
    "**(c)** Given the flow vector in flow.mat, compute the external inflow $\\nu$ satisfying Bf = $\\nu$.\n",
    "In the following, we assume that the exogenous inflow is zero in all the nodes except for node 1,\n",
    "for which $\\nu_{1}$ has the same value computed in the point (c), and node 17, for which $\\nu_{17}$ = -$\\nu_{1}$"
   ]
  },
  {
   "cell_type": "code",
   "execution_count": 16,
   "id": "4ba7999d",
   "metadata": {},
   "outputs": [
    {
     "name": "stdout",
     "output_type": "stream",
     "text": [
      "Optimal f: [1. 1. 0. 0. 0. 0. 0. 0. 1. 0. 0. 1. 0. 0. 0. 0. 0. 0. 0. 0. 0. 0. 0. 0.\n",
      " 1. 0. 0. 0.]\n"
     ]
    }
   ],
   "source": [
    "#import cvxpy as cp\n",
    "# C :external inflow 'v' satisfying Bf = v\n",
    "B_matrix = traffic\n",
    "n_edges = B_matrix.shape[1]\n",
    "\n",
    "# unitary inflow from node 1 to node 17\n",
    "nu = np.array([1, 0, 0, 0, 0, 0, 0, 0, 0, 0, 0, 0, 0, 0, 0, 0, -1])  # exogenous flow vector  تنظیم درجه ورودی و خروجی هر نود\n",
    "l = np.array(traveltime)\n",
    "\n",
    "# Construct the problem.\n",
    "f = cp.Variable(n_edges)\n",
    "\n",
    "# l stores the coefficients of the linear terms of the objective function, in this case the length of the links.\n",
    "objective = cp.Minimize(l.T @ f)\n",
    "constraints = [B_matrix @ f == nu, f >= 0]      #define limitation of the problem\n",
    "prob = cp.Problem(objective, constraints)\n",
    "\n",
    "# The optimal objective value is returned by `prob.solve()`.\n",
    "cost_opt = prob.solve()\n",
    "\n",
    "# The optimal value for f is stored in `f.value`.\n",
    "print(\"Optimal f:\", f.value)"
   ]
  },
  {
   "cell_type": "code",
   "execution_count": 17,
   "id": "d9d620af",
   "metadata": {},
   "outputs": [
    {
     "name": "stdout",
     "output_type": "stream",
     "text": [
      "external_inflow: [ 16806   8570  19448   4957   -746   4768    413     -2  -5671   1169\n",
      "     -5  -7131   -380  -7412  -7810  -3430 -23544]\n"
     ]
    }
   ],
   "source": [
    "external_inflow = B_matrix @ flow\n",
    "print(\"external_inflow:\", external_inflow)"
   ]
  },
  {
   "cell_type": "markdown",
   "id": "2a113d9e",
   "metadata": {},
   "source": [
    "**(d)** Find the social optimum $f^∗$ with respect to the delays on the different links $\\tau_e$($f_e$). For this,\n",
    "minimize the cost function\n",
    "\n",
    "\n",
    "$$\n",
    "\\sum_{e\\in E}f_e(\\tau_e(f_e) = \\sum_{e\\in E} \\frac {\\ f_e l_e }{1 - f_e / c_e}  = \\sum_{e\\in E} \\frac {\\ l_e c_e}{1 - f_e / c_e}\\, - l_e c_e\n",
    "$$"
   ]
  },
  {
   "cell_type": "code",
   "execution_count": 18,
   "id": "96f10a83",
   "metadata": {},
   "outputs": [
    {
     "name": "stdout",
     "output_type": "stream",
     "text": [
      "Social optimal flow: [ 6642.2   6058.94  3132.33  3132.33 10163.8   4638.32  3006.34  2542.63\n",
      "  3131.54   583.26     0.01  2926.6      0.    3132.33  5525.48  2854.27\n",
      "  4886.45  2215.24   463.72  2337.69  3317.99  5655.68  2373.11     0.\n",
      "  6414.12  5505.43  4886.45  4886.45]\n",
      "Optimal cost: 25943.62261121288\n"
     ]
    }
   ],
   "source": [
    "# D: Find the social optimum f∗ and optimum cost:\n",
    "# exogenous inflow vector\n",
    "nu = np.array([16806, 0, 0, 0, 0, 0, 0, 0, 0, 0, 0, 0, 0, 0, 0, 0, -16806])\n",
    "\n",
    "# Construct the problem.\n",
    "f = cp.Variable(n_edges)\n",
    "\n",
    "# cost function\n",
    "func = cp.multiply(traveltime * capacities, cp.inv_pos(1 - cp.multiply(f, 1 / capacities))) - traveltime * capacities\n",
    "func = cp.sum(func)\n",
    "\n",
    "# Construct the problem.\n",
    "# Minimize cost function\n",
    "objective = cp.Minimize(func)\n",
    "constraints = [B_matrix @ f == nu, f >= 0, f <= capacities]  # 0 ≤ fe < ce.\n",
    "prob = cp.Problem(objective, constraints)\n",
    "\n",
    "# The optimal objective value is returned by `prob.solve()`.\n",
    "cost_opt = prob.solve()\n",
    "\n",
    "# The optimal value for f is stored in `f.value`.\n",
    "opt_flow = f.value\n",
    "print(\"Social optimal flow:\", opt_flow)\n",
    "print(\"Optimal cost:\", cost_opt)"
   ]
  },
  {
   "cell_type": "markdown",
   "id": "26f6c860",
   "metadata": {},
   "source": [
    "**(e)** Find the Wardrop equilibrium $f^0$. For this, use the cost function\n",
    "\n",
    "$$\n",
    " \\sum_{e \\in \\mathcal{E}}\\int_0^{f_e} \\tau_e(s)~\\mathrm{d}s.\n",
    "$$\n"
   ]
  },
  {
   "cell_type": "code",
   "execution_count": 19,
   "id": "7a85c1b7",
   "metadata": {},
   "outputs": [
    {
     "name": "stdout",
     "output_type": "stream",
     "text": [
      "Wardrop equilibrium flow: [ 6715.65  6715.65  2367.41  2367.41 10090.35  4645.39  2803.84  2283.56\n",
      "  3418.48     0.     176.83  4171.41     0.    2367.41  5444.96  2353.17\n",
      "  4933.34  1841.55   697.11  3036.49  3050.28  6086.77  2586.51     0.\n",
      "  6918.74  4953.92  4933.34  4933.34]\n"
     ]
    }
   ],
   "source": [
    "# E1: Find the Wardrop equilibrium\n",
    "f = cp.Variable(n_edges)\n",
    "\n",
    "# cost function\n",
    "integral = - cp.multiply(traveltime * capacities, cp.log(1 - (cp.multiply(f, 1 / capacities))))\n",
    "func2 = cp.sum(integral)\n",
    "\n",
    "# minimize cost function\n",
    "objective = cp.Minimize(func2)\n",
    "constraints = [B_matrix @ f == nu, f >= 0, f <= capacities]\n",
    "prob = cp.Problem(objective, constraints)\n",
    "\n",
    "cost_w = prob.solve()\n",
    "\n",
    "print(\"Wardrop equilibrium flow:\", f.value)"
   ]
  },
  {
   "cell_type": "markdown",
   "id": "83e41f33",
   "metadata": {},
   "source": [
    "**(e)** Introduce tolls, such that the toll on link e is\n",
    "$\\omega_e$ = $f_e^\\;*$  $\\tau_e^\\prime$ $(f_e^\\;* $)\n",
    "where $f_e^\\;*$ is the flow at the system optimum. Now the delay on link e is given by\n",
    "$\\tau_e$($f_e$)+ $\\omega_e$. \n",
    "compute the new Wardrop equilibrium $f^{(\\omega)}$ . What do you observe?"
   ]
  },
  {
   "cell_type": "code",
   "execution_count": 20,
   "id": "0e03cab7",
   "metadata": {
    "scrolled": true
   },
   "outputs": [
    {
     "name": "stdout",
     "output_type": "stream",
     "text": [
      "Wardrop equilibrium without tolls: [ 6715.65  6715.65  2367.41  2367.41 10090.35  4645.39  2803.84  2283.56\n",
      "  3418.48     0.     176.83  4171.41     0.    2367.41  5444.96  2353.17\n",
      "  4933.34  1841.55   697.11  3036.49  3050.28  6086.77  2586.51     0.\n",
      "  6918.74  4953.92  4933.34  4933.34]\n",
      "Wardrop cost: 26292.963874629393\n",
      "The cost without tolls: 26292.963874629393\n",
      "The Optimal cost without tolls: 25943.62261121288\n",
      "--------------------------------------------------------\n",
      "The price of anarchy: 1.013465400289377\n",
      "--------------------------------------------------------\n",
      "Wardrop equilibrium with tolls: [ 6642.97  6059.08  3132.47  3132.47 10163.03  4638.26  3006.33  2542.34\n",
      "  3131.49   583.9      0.    2926.6      0.    3132.47  5524.77  2854.23\n",
      "  4886.37  2215.83   463.99  2337.45  3318.22  5655.67  2373.04     0.\n",
      "  6414.12  5505.51  4886.37  4886.37]\n",
      "--------------------------------------------------------\n",
      "Wardrop cost w: 25943.62261534188\n",
      "The cost with tolls: 25943.62261534188\n",
      "The Optimal cost with tolls: 25943.62261121288\n",
      "--------------------------------------------------------\n",
      "The price of anarchy w: 1.000000000159153\n"
     ]
    }
   ],
   "source": [
    "#E2: wardrop cost and computing new wardrop:\n",
    "\n",
    "war_vect = f.value\n",
    "\n",
    "print(\"Wardrop equilibrium without tolls:\", war_vect)\n",
    "\n",
    "# cost, defined as \\sum_e f_e d_e(f_e)\n",
    "def cost(f):\n",
    "    tot = []\n",
    "    for i, value in enumerate(f):\n",
    "        tot.append(((traveltime[i] * capacities[i]) / (1 - (value / capacities[i]))) - traveltime[i] * capacities[i])\n",
    "    return sum(tot)\n",
    "\n",
    "cost_w = cost(war_vect) # evaluate the social cost at the Wardrop equilibrium\n",
    "\n",
    "print(\"Wardrop cost:\", cost_w)\n",
    "\n",
    "PoA = cost_w / cost_opt\n",
    "print(\"The cost without tolls:\", cost_w)\n",
    "print(\"The Optimal cost without tolls:\", cost_opt)\n",
    "print(\"--------------------------------------------------------\")\n",
    "print(\"The price of anarchy:\", PoA)  #POA: the ratio between the Wardrop cost and the optimal cost.\n",
    "\n",
    "f = cp.Variable(n_edges)\n",
    "\n",
    "# compute omega\n",
    "omega = []\n",
    "for i, value in enumerate(opt_flow):\n",
    "    omega.append(value * ((capacities[i] * traveltime[i]) / ((capacities[i] - value) ** 2)))\n",
    "\n",
    "func3 = cp.sum(\n",
    "    cp.multiply(omega, f) - cp.multiply(capacities * traveltime, cp.log(1 - (cp.multiply(f, 1 / capacities)))))\n",
    "\n",
    "objective = cp.Minimize(func3)\n",
    "constraints = [B_matrix @ f == nu, f >= 0, f <= capacities]\n",
    "prob = cp.Problem(objective, constraints)\n",
    "\n",
    "result = prob.solve()\n",
    "print(\"--------------------------------------------------------\")\n",
    "print(\"Wardrop equilibrium with tolls:\", f.value)\n",
    "print(\"--------------------------------------------------------\")\n",
    "\n",
    "war_vect = f.value\n",
    "# compute cost of wardrop equilibrium\n",
    "cost_w = cost(war_vect)\n",
    "\n",
    "print(\"Wardrop cost w:\", cost_w)\n",
    "\n",
    "PoA = cost_w / cost_opt\n",
    "print(\"The cost with tolls:\", cost_w)\n",
    "print(\"The Optimal cost with tolls:\", cost_opt)\n",
    "print(\"--------------------------------------------------------\")\n",
    "print(\"The price of anarchy w:\", PoA)"
   ]
  },
  {
   "cell_type": "markdown",
   "id": "92baf296",
   "metadata": {},
   "source": [
    "**(f)** Instead of the total travel time, let the cost for the system be the total additional delay\n",
    "compared to the total delay in free flow, given by $ψ_e(f_e) = f_e(τ_e(f_e) − l_e)$ \n",
    "\n",
    "subject to the flow constraints. Compute the system optimum $f^{\\;*}$ for the costs above. Construct tolls ω∗such that the Wardrop equilibrium $f^{(\\omega^\\;*)}$ coincides with $f^{\\;*}$. Compute the new Wardrop equilibrium with the constructed tolls $f^{(\\omega^\\;*)}$ to verify your result."
   ]
  },
  {
   "cell_type": "code",
   "execution_count": 21,
   "id": "cf977a93",
   "metadata": {},
   "outputs": [
    {
     "name": "stdout",
     "output_type": "stream",
     "text": [
      "Social optimal flow: [ 6653.3   5774.66  3419.72  3419.71 10152.7   4642.78  3105.84  2662.18\n",
      "  3009.08   878.63     0.01  2354.94     0.01  3419.71  5509.92  3043.69\n",
      "  4881.81  2415.57   443.66  2008.05  3487.35  5495.4   2203.78     0.\n",
      "  6300.7   5623.49  4881.81  4881.81]\n",
      "Optimal cost: 15095.51352460787\n",
      "Constructed tolls: [16806.     0.     0.     0.     0.     0. 16806.     0.     0. 16806.\n",
      "     0.     0.     0.     0.     0.     0.     0.     0. 16806.     0.\n",
      "     0.     0.     0. 16806.     0.     0. 16806. 16806.]\n",
      "Wardrop equilibrium: None\n"
     ]
    }
   ],
   "source": [
    "# F: Compute the system optimum f*, Optimal cost,Constructed tolls,Wardrop equilibrium,Wardrop cost,The price of anarchy:\n",
    "\n",
    "f = cp.Variable(n_edges)\n",
    "\n",
    "# cost function free flow delay\n",
    "func4 = cp.sum(\n",
    "    cp.multiply(cp.multiply(traveltime, capacities), cp.inv_pos(1 - cp.multiply(f, 1 / capacities))) - cp.multiply(\n",
    "        traveltime, capacities) - cp.multiply(traveltime, f))\n",
    "\n",
    "objective = cp.Minimize(func4)\n",
    "constraints = [B_matrix @ f == nu, f >= 0, f <= capacities]\n",
    "prob = cp.Problem(objective, constraints)\n",
    "\n",
    "# The optimal objective value is returned by `prob.solve()`.\n",
    "cost_opt = prob.solve()\n",
    "\n",
    "# The optimal value for f is stored in `f.value`.\n",
    "opt_flow = f.value\n",
    "print(\"Social optimal flow:\", opt_flow)\n",
    "print(\"Optimal cost:\", cost_opt)\n",
    "w = cp.Variable(n_edges)\n",
    "\n",
    "nu = np.array([16806, 0, 0, 0, 0, 0, 0, 0, 0, 0, 0, 0, 0, 0, 0, 0, -16806])\n",
    "\n",
    "# cost function with optimal flow\n",
    "integral = - cp.multiply(capacities * traveltime, cp.log(1 - (cp.multiply(opt_flow, 1 / capacities)))) - cp.multiply(\n",
    "    opt_flow, traveltime) + cp.multiply(w, opt_flow)\n",
    "func5 = cp.sum(integral)\n",
    "\n",
    "objective = cp.Minimize(func5)\n",
    "constraints = [B_matrix @ w == nu, w >= 0]\n",
    "prob = cp.Problem(objective, constraints)\n",
    "\n",
    "result_w = prob.solve()\n",
    "\n",
    "print(\"Constructed tolls:\", w.value)\n",
    "constr_tolls = w.value\n",
    "\n",
    "f_new = cp.Variable(n_edges)\n",
    "nu = np.array([16806, 0, 0, 0, 0, 0, 0, 0, 0, 0, 0, 0, 0, 0, 0, 0, -16806])\n",
    "\n",
    "#-------------------------------------------------\n",
    "func = - cp.multiply(capacities * traveltime, cp.log(1 - (cp.multiply(f_new, 1 / capacities)))) \n",
    "- cp.multiply(f_new,traveltime) + cp.multiply(constr_tolls, f_new)\n",
    "\n",
    "objective = cp.Minimize(cp.sum(func))\n",
    "constraints = [B_matrix @ f_new == nu, f_new >= 0, f_new <= c, f_new == opt_flow]\n",
    "prob = cp.Problem(objective, constraints)\n",
    "\n",
    "result_w = prob.solve()\n",
    "\n",
    "print(\"Wardrop equilibrium:\", f_new.value)\n",
    "\n",
    "\n",
    "if f_new.value is not None:\n",
    "    def cost2(f):\n",
    "        tot = []\n",
    "        for i, value in enumerate(f):\n",
    "            tot.append(((l[i] * c[i]) / (1 - (value / c[i]))) - l[i] * c[i] - l[i] * value)\n",
    "        return sum(tot)\n",
    "    \n",
    "\n",
    "    war_vect = f_new.value\n",
    "    cost_w = cost2(war_vect)\n",
    "\n",
    "    print(\"Wardrop cost:\", cost_w)\n",
    "\n",
    "    PoA = cost_w / cost_opt\n",
    "\n",
    "    print(\"The price of anarchy:\", PoA)"
   ]
  },
  {
   "cell_type": "code",
   "execution_count": null,
   "id": "8b08151a",
   "metadata": {},
   "outputs": [],
   "source": []
  }
 ],
 "metadata": {
  "kernelspec": {
   "display_name": "Python 3 (ipykernel)",
   "language": "python",
   "name": "python3"
  },
  "language_info": {
   "codemirror_mode": {
    "name": "ipython",
    "version": 3
   },
   "file_extension": ".py",
   "mimetype": "text/x-python",
   "name": "python",
   "nbconvert_exporter": "python",
   "pygments_lexer": "ipython3",
   "version": "3.7.0"
  }
 },
 "nbformat": 4,
 "nbformat_minor": 5
}
